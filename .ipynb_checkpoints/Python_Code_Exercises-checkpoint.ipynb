{
 "cells": [
  {
   "cell_type": "markdown",
   "id": "db04e611",
   "metadata": {},
   "source": [
    "<center> <h1> Wolkite University </h1> </center>\n",
    "<center> <h2> College of Computing and Informatics </h2> </center>\n",
    "<center> <h3> Department of Information Systems </h3> </center>\n",
    "<center> <h3> Artificial Intelligence Course Laboratory Manual  </h3> </center>\n",
    "<br>\n",
    "<center><h3> Introduction to Python Programming Language </h3> </center>\n",
    "<center><h3> Lab Exercises 1 </h3> </center>\n",
    "\n",
    "\n",
    "<br>"
   ]
  },
  {
   "cell_type": "code",
   "execution_count": 69,
   "id": "a619b477",
   "metadata": {},
   "outputs": [
    {
     "name": "stdout",
     "output_type": "stream",
     "text": [
      "Enter your Name: NEWAZ NEZIF\n",
      "Enter your Id number: 1678\n",
      "NEWAZ NEZIF 1678\n"
     ]
    }
   ],
   "source": [
    "name = input(\"Enter your Name: \")\n",
    "id_number = int(input(\"Enter your Id number: \"))\n",
    "print(name, id_number)"
   ]
  },
  {
   "cell_type": "markdown",
   "id": "c869ec8e",
   "metadata": {
    "deletable": false,
    "editable": false,
    "scrolled": true
   },
   "source": [
    "1. Write a Python program to find those numbers which are divisible by 7 and multiples of 5, between 1500 and 2700 (both included)."
   ]
  },
  {
   "cell_type": "code",
   "execution_count": 3,
   "id": "5f4cd585",
   "metadata": {},
   "outputs": [
    {
     "name": "stdout",
     "output_type": "stream",
     "text": [
      "1505\n",
      "1540\n",
      "1575\n",
      "1610\n",
      "1645\n",
      "1680\n",
      "1715\n",
      "1750\n",
      "1785\n",
      "1820\n",
      "1855\n",
      "1890\n",
      "1925\n",
      "1960\n",
      "1995\n",
      "2030\n",
      "2065\n",
      "2100\n",
      "2135\n",
      "2170\n",
      "2205\n",
      "2240\n",
      "2275\n",
      "2310\n",
      "2345\n",
      "2380\n",
      "2415\n",
      "2450\n",
      "2485\n",
      "2520\n",
      "2555\n",
      "2590\n",
      "2625\n",
      "2660\n",
      "2695\n"
     ]
    }
   ],
   "source": [
    "#Write your code here\n",
    "for num in range(1500, 2701):\n",
    "    if num % 7 == 0 and num % 5 == 0:\n",
    "        print(num)\n"
   ]
  },
  {
   "cell_type": "markdown",
   "id": "34ffc6ca",
   "metadata": {
    "deletable": false,
    "editable": false,
    "scrolled": true
   },
   "source": [
    "2. Write a Python program to convert temperatures to and from Celsius and Fahrenheit.  <br>\n",
    "\n",
    "**Hint**<br>\n",
    "Formula : c/5 = f-32/9 [ where c = temperature in celsius and f = temperature in fahrenheit]<br>\n",
    "\n",
    "Expected Output : <br>\n",
    "* 60°C is 140 in Fahrenheit\n",
    "* 45°F is 7 in Celsius"
   ]
  },
  {
   "cell_type": "code",
   "execution_count": 10,
   "id": "34c35af6",
   "metadata": {},
   "outputs": [
    {
     "name": "stdout",
     "output_type": "stream",
     "text": [
      "60°C is 140.0 in °F\n",
      "45°F is 7.222222222222222 in °C\n"
     ]
    }
   ],
   "source": [
    "#Write your code here\n",
    "def celsius_to_fahrenheit(celsius):\n",
    "    return (celsius * 9/5) + 32\n",
    "\n",
    "def fahrenheit_to_celsius(fahrenheit):\n",
    "    return (fahrenheit - 32) * 5/9\n",
    "celsius = 60\n",
    "fahrenheit = celsius_to_fahrenheit(celsius)\n",
    "print(f\"{celsius}°C is {fahrenheit} in °F\")\n",
    "\n",
    "fahrenheit = 45\n",
    "celsius = fahrenheit_to_celsius(fahrenheit)\n",
    "print(f\"{fahrenheit}°F is {celsius} in °C\")\n",
    "\n"
   ]
  },
  {
   "cell_type": "markdown",
   "id": "90a6b0d0",
   "metadata": {
    "deletable": false,
    "editable": false,
    "scrolled": true
   },
   "source": [
    "3. Write a Python program to count the number of even and odd numbers in a series of numbers <br>\n",
    "\n",
    "**Hint**<br>\n",
    "Sample numbers : numbers = (1, 2, 3, 4, 5, 6, 7, 8, 9)  <br>\n",
    "Expected Output : <br>\n",
    "Number of even numbers : 5 <br>\n",
    "Number of odd numbers : 4 <br>"
   ]
  },
  {
   "cell_type": "code",
   "execution_count": 7,
   "id": "572cbf4e",
   "metadata": {},
   "outputs": [
    {
     "name": "stdout",
     "output_type": "stream",
     "text": [
      "Number of even numbers: 4\n",
      "Number of odd numbers: 5\n"
     ]
    }
   ],
   "source": [
    "#Write your code here\n",
    "numbers = (1, 2, 3, 4, 5, 6, 7, 8, 9)\n",
    "even_num = 0\n",
    "odd_num = 0\n",
    "\n",
    "for num in numbers:\n",
    "    if num % 2 == 0:\n",
    "        even_num += 1\n",
    "    else:\n",
    "        odd_num += 1\n",
    "\n",
    "print(\"Number of even numbers:\", even_num)\n",
    "print(\"Number of odd numbers:\", odd_num)"
   ]
  },
  {
   "cell_type": "markdown",
   "id": "53e2470d",
   "metadata": {
    "deletable": false,
    "editable": false,
    "scrolled": true
   },
   "source": [
    "4. Write a Python program that prints all the numbers from 0 to 6 except 3 and 6.<br>\n",
    "\n",
    "**Hint**<br>\n",
    "Expected Output : 0 1 2 4 5"
   ]
  },
  {
   "cell_type": "code",
   "execution_count": 15,
   "id": "1fa3b824",
   "metadata": {},
   "outputs": [
    {
     "name": "stdout",
     "output_type": "stream",
     "text": [
      "0 1 2 4 5 "
     ]
    }
   ],
   "source": [
    "#Write your code here\n",
    "for j in range(7):\n",
    "    if j != 3 and j != 6:\n",
    "        print(j, end=' ')"
   ]
  },
  {
   "cell_type": "markdown",
   "id": "b1fd0392",
   "metadata": {
    "deletable": false,
    "editable": false,
    "scrolled": true
   },
   "source": [
    "4. Write a Python program to reverse a number using loop."
   ]
  },
  {
   "cell_type": "code",
   "execution_count": 21,
   "id": "03f07bf2",
   "metadata": {},
   "outputs": [
    {
     "name": "stdout",
     "output_type": "stream",
     "text": [
      " The reverse number of the number is 7\n",
      " The reverse number of the number is 70\n",
      " The reverse number of the number is 707\n",
      " The reverse number of the number is 7072\n",
      " The reverse number of the number is 70725\n",
      " The reverse number of the number is 707256\n",
      " The reverse number of the number is 7072563\n",
      " The reverse number of the number is 70725635\n",
      " The reverse number of the number is 707256359\n",
      " The reverse number of the number is 7072563591\n",
      " The reverse number of the number is 70725635915\n",
      " The reverse number of the number is 707256359152\n"
     ]
    }
   ],
   "source": [
    "#Write your code here\n",
    "num= 251953652707\n",
    "rev_num =0\n",
    "while num>0 :\n",
    "    remainder= num%10\n",
    "    rev_num = ( rev_num*10)+ remainder\n",
    "    num=num//10\n",
    "    print(f\" The reverse number of the number is {rev_num}\")"
   ]
  },
  {
   "cell_type": "markdown",
   "id": "3e1c2e1d",
   "metadata": {
    "deletable": false,
    "editable": false,
    "scrolled": true
   },
   "source": [
    "5. Write a program to print n natural number in descending order using a while loop.<br>\n",
    "\n",
    "**Hint**<br>\n",
    "Enter a range : 10<br>\n",
    "\n",
    "Expected output <br>\n",
    "Result: 10  9  8  7  6  5  4  3  2  1<br>"
   ]
  },
  {
   "cell_type": "code",
   "execution_count": 24,
   "id": "b2dc5bb0",
   "metadata": {},
   "outputs": [
    {
     "name": "stdout",
     "output_type": "stream",
     "text": [
      "Enter a range10\n",
      "10987654321"
     ]
    }
   ],
   "source": [
    "#Write your code here\n",
    "num = int(input(\"Enter a range\"))\n",
    "while(num>0):\n",
    "    print(num,end='')\n",
    "    num=num-1"
   ]
  },
  {
   "cell_type": "markdown",
   "id": "0937100a",
   "metadata": {
    "deletable": false,
    "editable": false,
    "scrolled": true
   },
   "source": [
    "6. Write a program to display the first 7 multiples of 7."
   ]
  },
  {
   "cell_type": "code",
   "execution_count": 26,
   "id": "2ad91c9d",
   "metadata": {},
   "outputs": [
    {
     "name": "stdout",
     "output_type": "stream",
     "text": [
      "7\n",
      "14\n",
      "21\n",
      "28\n",
      "35\n",
      "42\n",
      "49\n"
     ]
    }
   ],
   "source": [
    "#Write your code here\n",
    "for j in range(1,8):\n",
    "    print(7*j)\n"
   ]
  },
  {
   "cell_type": "markdown",
   "id": "5f4d5c88",
   "metadata": {
    "deletable": false,
    "editable": false,
    "scrolled": true
   },
   "source": [
    "7. Write a program to filter even and odd number from a list. <br>\n",
    "\n",
    "**Hint**<br>\n",
    "Given x = [10, 23, 24, 35, 65, 78, 90]<br>\n",
    "\n",
    "Expected output <br>\n",
    "Even numbers: [10, 24, 78, 90] <br>\n",
    "Odd numbers: [23, 35, 65]<br>"
   ]
  },
  {
   "cell_type": "code",
   "execution_count": 30,
   "id": "24e40c35",
   "metadata": {},
   "outputs": [
    {
     "name": "stdout",
     "output_type": "stream",
     "text": [
      "EVEN NUMBERS =  [10, 24, 78, 90]\n",
      "ODD NUMBERS =  [23, 35, 65]\n"
     ]
    }
   ],
   "source": [
    "#Write your code here\n",
    "num=[10, 23, 24, 35, 65, 78, 90]\n",
    "even_num=[]\n",
    "odd_num=[]\n",
    "for i in num:\n",
    "    if i%2==0:\n",
    "        even_num.append(i)\n",
    "    else:\n",
    "        odd_num.append(i)\n",
    "            \n",
    "print(\"EVEN NUMBERS = \", even_num)\n",
    "print(\"ODD NUMBERS = \", odd_num)\n",
    "\n",
    "        "
   ]
  },
  {
   "cell_type": "markdown",
   "id": "b7adac32",
   "metadata": {
    "deletable": false,
    "editable": false,
    "scrolled": true
   },
   "source": [
    "8. Write a program using for loop to iterate from 0 to 100 and print the sum of all numbers."
   ]
  },
  {
   "cell_type": "code",
   "execution_count": 32,
   "id": "987e9ead",
   "metadata": {},
   "outputs": [
    {
     "name": "stdout",
     "output_type": "stream",
     "text": [
      "The sum of all numbers from 0 to 100 is: 5050\n"
     ]
    }
   ],
   "source": [
    "#Write your code here\n",
    "total = 0\n",
    "for num in range(101):\n",
    "    total += num\n",
    "print(\"The sum of all numbers from 0 to 100 is:\", total)\n",
    "\n"
   ]
  },
  {
   "cell_type": "markdown",
   "id": "3a10599b",
   "metadata": {
    "deletable": false,
    "editable": false,
    "scrolled": true
   },
   "source": [
    "9. Write a program to iterate the first 10 numbers and in each iteration, print the sum of the current and previous number. <br>\n",
    "\n",
    "**Hint**<br>\n",
    "Expected Output:<br>\n",
    "Printing current and previous number sum in a range(10)<br>\n",
    "\n",
    "Current Number 0 Previous Number  0  Sum:  0<br>\n",
    "Current Number 1 Previous Number  0  Sum:  1<br>\n",
    "Current Number 2 Previous Number  1  Sum:  3<br>\n",
    "Current Number 3 Previous Number  2  Sum:  5<br>\n",
    "Current Number 4 Previous Number  3  Sum:  7<br>\n",
    "Current Number 5 Previous Number  4  Sum:  9<br>\n",
    "Current Number 6 Previous Number  5  Sum:  11<br>\n",
    "Current Number 7 Previous Number  6  Sum:  13<br>\n",
    "Current Number 8 Previous Number  7  Sum:  15<br>\n",
    "Current Number 9 Previous Number  8  Sum:  17<br>"
   ]
  },
  {
   "cell_type": "code",
   "execution_count": 34,
   "id": "11e670ff",
   "metadata": {},
   "outputs": [
    {
     "name": "stdout",
     "output_type": "stream",
     "text": [
      "Current Number 0 Previous Number 0 Sum: 0\n",
      "Current Number 1 Previous Number 0 Sum: 1\n",
      "Current Number 2 Previous Number 1 Sum: 3\n",
      "Current Number 3 Previous Number 2 Sum: 5\n",
      "Current Number 4 Previous Number 3 Sum: 7\n",
      "Current Number 5 Previous Number 4 Sum: 9\n",
      "Current Number 6 Previous Number 5 Sum: 11\n",
      "Current Number 7 Previous Number 6 Sum: 13\n",
      "Current Number 8 Previous Number 7 Sum: 15\n",
      "Current Number 9 Previous Number 8 Sum: 17\n"
     ]
    }
   ],
   "source": [
    "#Write your code here\n",
    "j = 0\n",
    "for i in range(10):\n",
    "    print(\"Current Number\",i,\"Previous Number\",j,\"Sum:\",i+j)\n",
    "    j = i"
   ]
  },
  {
   "cell_type": "markdown",
   "id": "bb2c4390",
   "metadata": {
    "deletable": false,
    "editable": false,
    "scrolled": true
   },
   "source": [
    " 10. Write a Python program to sum all the items in a list."
   ]
  },
  {
   "cell_type": "code",
   "execution_count": 40,
   "id": "3d311cde",
   "metadata": {},
   "outputs": [
    {
     "name": "stdout",
     "output_type": "stream",
     "text": [
      "The sum of all elements in given list:  150\n"
     ]
    }
   ],
   "source": [
    "#Write your code here\n",
    "list1 = [10, 20, 30, 40, 50]\n",
    "\n",
    "total = 0\n",
    "for i in list1: \n",
    "    total += i \n",
    "print(\"The sum of all elements in given list: \", total)\n"
   ]
  },
  {
   "cell_type": "markdown",
   "id": "9bd0e2d5",
   "metadata": {
    "deletable": false,
    "editable": false,
    "scrolled": true
   },
   "source": [
    "11. Write a Python program to multiply all the items in a list."
   ]
  },
  {
   "cell_type": "code",
   "execution_count": 42,
   "id": "9e3b2d94",
   "metadata": {},
   "outputs": [
    {
     "name": "stdout",
     "output_type": "stream",
     "text": [
      "36\n"
     ]
    }
   ],
   "source": [
    "#Write your code here\n",
    "list1 = [2, -2, 3, -1, 3]\n",
    "result = 1\n",
    "for y in list1: \n",
    "    result = result * y  \n",
    "print(result)\n"
   ]
  },
  {
   "cell_type": "markdown",
   "id": "099de9f3",
   "metadata": {
    "deletable": false,
    "editable": false,
    "scrolled": true
   },
   "source": [
    "12. Write a Python program to get the largest number from a list."
   ]
  },
  {
   "cell_type": "code",
   "execution_count": 43,
   "id": "1a91a691",
   "metadata": {},
   "outputs": [
    {
     "name": "stdout",
     "output_type": "stream",
     "text": [
      "Largest element is: 100\n"
     ]
    }
   ],
   "source": [
    "#Write your code here\n",
    "list1 = [10, 20, 30, 40, 100] \n",
    "  \n",
    "# printing the maximum element \n",
    "print(\"Largest element is:\", max(list1))\n"
   ]
  },
  {
   "cell_type": "markdown",
   "id": "f8d018d7",
   "metadata": {
    "deletable": false,
    "editable": false,
    "scrolled": true
   },
   "source": [
    "13. Write a Python program to get the smallest number from a list."
   ]
  },
  {
   "cell_type": "code",
   "execution_count": 45,
   "id": "0cf07bb3",
   "metadata": {},
   "outputs": [
    {
     "name": "stdout",
     "output_type": "stream",
     "text": [
      "Smallest element is: 10\n"
     ]
    }
   ],
   "source": [
    "#Write your code here\n",
    "list1 = [10, 20, 30, 40, 100] \n",
    "  \n",
    "# printing the maximum element \n",
    "print(\"Smallest element is:\", min(list1))"
   ]
  },
  {
   "cell_type": "markdown",
   "id": "4a85320a",
   "metadata": {
    "deletable": false,
    "editable": false,
    "scrolled": true
   },
   "source": [
    "14. Write a Python program to remove duplicates from a list.<br>\n",
    "\n",
    "**Hint**<br>\n",
    "Input = [10, 20, 30, 20, 10, 50, 60, 40, 80, 50, 40] <br>\n",
    "Expected Output: <br>\n",
    "{40, 10, 80, 50, 20, 60, 30}"
   ]
  },
  {
   "cell_type": "code",
   "execution_count": 51,
   "id": "1433a142",
   "metadata": {},
   "outputs": [
    {
     "name": "stdout",
     "output_type": "stream",
     "text": [
      "[10, 20, 30, 40, 50, 60, 80]\n"
     ]
    }
   ],
   "source": [
    "#Write your code here\n",
    "lst = 10, 20, 30, 20, 10, 50, 60, 40, 80, 50, 40\n",
    "lst = list(set(lst))\n",
    "lst.sort()\n",
    "print(lst)\n"
   ]
  },
  {
   "cell_type": "markdown",
   "id": "027bfaee",
   "metadata": {
    "deletable": false,
    "editable": false,
    "scrolled": true
   },
   "source": [
    "15. Print characters from a string that are present at an even index number <br>\n",
    "\n",
    "\n",
    "**Hint**<br>\n",
    "Write a program to accept a string from the user and display characters that are present at an even index number.<br>\n",
    "\n",
    "For example, str = \"pynative\" so you should display ‘p’, ‘n’, ‘t’, ‘v’.<br>\n",
    "\n",
    "**Expected Output:**<br>\n",
    "Orginal String is  pynative<br>\n",
    "Printing only even index chars<br>\n",
    "p<br>\n",
    "n<br>\n",
    "t<br>\n",
    "v<br>"
   ]
  },
  {
   "cell_type": "code",
   "execution_count": 49,
   "id": "7b45a40b",
   "metadata": {},
   "outputs": [
    {
     "name": "stdout",
     "output_type": "stream",
     "text": [
      "Enter a string: pynative\n",
      "Original String is: pynative\n",
      "Printing only even index chars\n",
      "p\n",
      "n\n",
      "t\n",
      "v\n"
     ]
    }
   ],
   "source": [
    "#Write your code here\n",
    "str1 = input(\"Enter a string: \")\n",
    "\n",
    "print(\"Original String is:\", str1)\n",
    "print(\"Printing only even index chars\")\n",
    "\n",
    "for x in range(0, len(str1), 2):\n",
    "    print(str1[x])"
   ]
  },
  {
   "cell_type": "markdown",
   "id": "4cef81c7",
   "metadata": {
    "deletable": false,
    "editable": false,
    "scrolled": true
   },
   "source": [
    "16. Display numbers divisible by 5 from a list <br>\n",
    "\n",
    "**Hint**<br>\n",
    "Iterate the given list of numbers and print only those numbers which are divisible by 5<br>\n",
    "\n",
    "**Expected Output:**<br>\n",
    "Given list is  [10, 20, 33, 46, 55]<br>\n",
    "Divisible by 5<br>\n",
    "10<br>\n",
    "20<br>\n",
    "55<br>"
   ]
  },
  {
   "cell_type": "code",
   "execution_count": 55,
   "id": "e5f93641",
   "metadata": {},
   "outputs": [
    {
     "name": "stdout",
     "output_type": "stream",
     "text": [
      "Given list is [10, 20, 33, 46, 55]\n",
      "Divisible by 5\n",
      "10\n",
      "20\n",
      "55\n"
     ]
    }
   ],
   "source": [
    "#Write your code here\n",
    "nums = [10, 20, 33, 46, 55]\n",
    "print(\"Given list is\", nums)\n",
    "print(\"Divisible by 5\")\n",
    "\n",
    "\n",
    "for num in nums:\n",
    "    if num % 5 == 0:\n",
    "        print(num)\n"
   ]
  },
  {
   "cell_type": "markdown",
   "id": "8bb9310a",
   "metadata": {
    "deletable": false,
    "editable": false,
    "scrolled": true
   },
   "source": [
    "17. Write a program to print all the elements of a list in single line. <br>\n",
    "\n",
    "**Hint**<br>\n",
    "num = [23,24,54,34]\n",
    "\n",
    "**Expected output** <br>\n",
    "23  24  54  34"
   ]
  },
  {
   "cell_type": "code",
   "execution_count": 54,
   "id": "dcb31315",
   "metadata": {},
   "outputs": [
    {
     "name": "stdout",
     "output_type": "stream",
     "text": [
      "23 24 54 34 "
     ]
    }
   ],
   "source": [
    "#Write your code here\n",
    "num = 23,24,54,34\n",
    "for n in num:\n",
    "    print(n, end=\" \")"
   ]
  },
  {
   "cell_type": "markdown",
   "id": "7a3854cb",
   "metadata": {
    "deletable": false,
    "editable": false,
    "scrolled": true
   },
   "source": [
    "18. Write a program to count the number of items stored in a list. <br>\n",
    "\n",
    "**Hint**<br>\n",
    "num = [23, 34, ‘hello’, 32, 56]<br>\n",
    "\n",
    "**Expected output**<br>\n",
    "Total count of items are: 5"
   ]
  },
  {
   "cell_type": "code",
   "execution_count": 56,
   "id": "f678fdc1",
   "metadata": {},
   "outputs": [
    {
     "name": "stdout",
     "output_type": "stream",
     "text": [
      "Total count of items are: 5\n"
     ]
    }
   ],
   "source": [
    "#Write your code here\n",
    "num = [23, 34, 'hello', 32, 56]\n",
    "count = len(num)\n",
    "print(\"Total count of items are:\", count)"
   ]
  },
  {
   "cell_type": "markdown",
   "id": "8381a3db",
   "metadata": {
    "deletable": false,
    "editable": false,
    "scrolled": true
   },
   "source": [
    "19. Write a program to check whether a given key exists in a dictionary or not.<br>\n",
    "\n",
    "**Hint**<br>\n",
    "Given dict = {‘0’:1, ‘1’:2, ‘2’:3}<br>\n",
    "**Input:**<br>\n",
    "Enter value to check: 2<br>\n",
    "\n",
    "**Expected output**<br>\n",
    "Result: True"
   ]
  },
  {
   "cell_type": "code",
   "execution_count": 65,
   "id": "8cf50a8f",
   "metadata": {},
   "outputs": [
    {
     "name": "stdout",
     "output_type": "stream",
     "text": [
      "Enter value to check: 2\n",
      "Result: True\n"
     ]
    }
   ],
   "source": [
    "#Write your code here\n",
    "dict1 = {'0': 1, '1': 2, '2': 3}\n",
    "key_to_check = input(\"Enter value to check: \")\n",
    "\n",
    "if key_to_check in dict1:\n",
    "    print(\"Result: True\")\n",
    "else:\n",
    "    print(\"Result: False\")\n"
   ]
  },
  {
   "cell_type": "markdown",
   "id": "1b9a6691",
   "metadata": {
    "deletable": false,
    "editable": false,
    "scrolled": true
   },
   "source": [
    "20. Write a program to iterate over dictionary items using for loop. <br>\n",
    "\n",
    "**Hint**<br>\n",
    "dict = {0:”Value 1″, 1:”Value 2″}<br>\n",
    "\n",
    "**Expected output**<br>\n",
    "Value of key 0 is Value 1<br>\n",
    "Value of key 1 is Value 2<br>"
   ]
  },
  {
   "cell_type": "code",
   "execution_count": 57,
   "id": "8446a0f2",
   "metadata": {},
   "outputs": [
    {
     "name": "stdout",
     "output_type": "stream",
     "text": [
      "Value of key 0 is Value 1\n",
      "Value of key 1 is Value 2\n"
     ]
    }
   ],
   "source": [
    "#Write your code here\n",
    "dict = {0: \"Value 1\", 1: \"Value 2\"}\n",
    "\n",
    "for key, value in dict.items():\n",
    "    print(\"Value of key\", key, \"is\", value)"
   ]
  },
  {
   "cell_type": "code",
   "execution_count": null,
   "id": "069c3804",
   "metadata": {},
   "outputs": [],
   "source": []
  }
 ],
 "metadata": {
  "kernelspec": {
   "display_name": "Python 3 (ipykernel)",
   "language": "python",
   "name": "python3"
  },
  "language_info": {
   "codemirror_mode": {
    "name": "ipython",
    "version": 3
   },
   "file_extension": ".py",
   "mimetype": "text/x-python",
   "name": "python",
   "nbconvert_exporter": "python",
   "pygments_lexer": "ipython3",
   "version": "3.9.13"
  }
 },
 "nbformat": 4,
 "nbformat_minor": 5
}
